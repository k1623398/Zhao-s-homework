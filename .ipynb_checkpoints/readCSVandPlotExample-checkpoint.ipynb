{
 "cells": [
  {
   "cell_type": "markdown",
   "metadata": {},
   "source": [
    "The Jupyter Notebook tutorial scratches the surface of working with a data file and visualizing some of the data.\n",
    "Peter Plavchan, 2023\n",
    "\n",
    "This is a Jupyter notebook, which is not the same thing as a python program.  it is far more interactive and hands on, letting you \"prototype\" code and test things out and change things dynamically.  In lecture, we went over how to copy and paste this code into a .py file to make a python program out of this code, which is also included in this repository.  "
   ]
  },
  {
   "cell_type": "markdown",
   "metadata": {},
   "source": [
    "This set of lines imports libraries of other people's code into your python environment.  If you get an error message, you will need to type into a gitbash terminal:  pip3 install pandas  <enter> and pip3 install matplotlib <enter>"
   ]
  },
  {
   "cell_type": "code",
   "execution_count": 1,
   "metadata": {},
   "outputs": [],
   "source": [
    "import pandas as pd\n",
    "import matplotlib.pyplot as plt"
   ]
  },
  {
   "cell_type": "markdown",
   "metadata": {},
   "source": [
    "This next line uses the pandas function read_csv to import data from the stated csv file, pasted in as a string, and storing it in a data frame variable df.  You will want to browse documentation on pandas (and matplotlib): https://pandas.pydata.org/docs/ https://matplotlib.org/\n",
    "This is only one way of reading in a date file, and there are more ways that you can imagine, all the way down to reading in files byte by byte.  We are scratching the surface; take a deeper dive on your own:\n",
    "- try altering the content of the csv file.  Open it in Notepad or TextEdit and change the contents and see what happens.\n",
    "- implicit in this line of code is the LOCATION of the file.  The lack of any directory paths indicates it is in your current working directory, aka the same directory you are running your code from.  What happens if the data file is in a subfolder called \"data/\" or is in some other folder altogether like \"/Users/username/Desktop/data/\".  These are called relative and absolute folder paths, and they must appear in front of the filename if the data is in a different directory.  Try moving the data file to a different directory and accessing it there!"
   ]
  },
  {
   "cell_type": "code",
   "execution_count": 2,
   "metadata": {},
   "outputs": [],
   "source": [
    "df = pd.read_csv('aumicwasp.csv')"
   ]
  },
  {
   "cell_type": "markdown",
   "metadata": {},
   "source": [
    "This next line of code shows a nicely formatted view of the start of the csv file in a table format, with row numbers labeled (note starts at 0!) and column names pulled from the start of the file.  Note the 4th column is NaN which stands for Not a Number.  This is because I put commas at the end of the lines, and left the four column blank."
   ]
  },
  {
   "cell_type": "code",
   "execution_count": 44,
   "metadata": {},
   "outputs": [
    {
     "data": {
      "text/html": [
       "<div>\n",
       "<style scoped>\n",
       "    .dataframe tbody tr th:only-of-type {\n",
       "        vertical-align: middle;\n",
       "    }\n",
       "\n",
       "    .dataframe tbody tr th {\n",
       "        vertical-align: top;\n",
       "    }\n",
       "\n",
       "    .dataframe thead th {\n",
       "        text-align: right;\n",
       "    }\n",
       "</style>\n",
       "<table border=\"1\" class=\"dataframe\">\n",
       "  <thead>\n",
       "    <tr style=\"text-align: right;\">\n",
       "      <th></th>\n",
       "      <th>JD</th>\n",
       "      <th>Phase</th>\n",
       "      <th>Flux</th>\n",
       "      <th>col4</th>\n",
       "    </tr>\n",
       "  </thead>\n",
       "  <tbody>\n",
       "    <tr>\n",
       "      <th>0</th>\n",
       "      <td>1282.8924</td>\n",
       "      <td>0.698342</td>\n",
       "      <td>1.015431</td>\n",
       "      <td>NaN</td>\n",
       "    </tr>\n",
       "    <tr>\n",
       "      <th>1</th>\n",
       "      <td>1282.8928</td>\n",
       "      <td>0.698432</td>\n",
       "      <td>1.012467</td>\n",
       "      <td>NaN</td>\n",
       "    </tr>\n",
       "    <tr>\n",
       "      <th>2</th>\n",
       "      <td>1282.9365</td>\n",
       "      <td>0.707408</td>\n",
       "      <td>1.061523</td>\n",
       "      <td>NaN</td>\n",
       "    </tr>\n",
       "    <tr>\n",
       "      <th>3</th>\n",
       "      <td>1282.9924</td>\n",
       "      <td>0.718897</td>\n",
       "      <td>1.046897</td>\n",
       "      <td>NaN</td>\n",
       "    </tr>\n",
       "    <tr>\n",
       "      <th>4</th>\n",
       "      <td>1282.9989</td>\n",
       "      <td>0.720246</td>\n",
       "      <td>1.012051</td>\n",
       "      <td>NaN</td>\n",
       "    </tr>\n",
       "  </tbody>\n",
       "</table>\n",
       "</div>"
      ],
      "text/plain": [
       "          JD     Phase      Flux  col4\n",
       "0  1282.8924  0.698342  1.015431   NaN\n",
       "1  1282.8928  0.698432  1.012467   NaN\n",
       "2  1282.9365  0.707408  1.061523   NaN\n",
       "3  1282.9924  0.718897  1.046897   NaN\n",
       "4  1282.9989  0.720246  1.012051   NaN"
      ]
     },
     "execution_count": 44,
     "metadata": {},
     "output_type": "execute_result"
    }
   ],
   "source": [
    "df.head()\n"
   ]
  },
  {
   "cell_type": "markdown",
   "metadata": {},
   "source": [
    "This line of code takes the column of data called \"JD\" and puts the array of numbers in a variable called x.\n",
    "This isn't really a required step, but try changing \"x\" to some other variable name, and see whath happens.  The second line of code prints the contents of the variable."
   ]
  },
  {
   "cell_type": "code",
   "execution_count": 4,
   "metadata": {},
   "outputs": [
    {
     "name": "stdout",
     "output_type": "stream",
     "text": [
      "0       1282.8924\n",
      "1       1282.8928\n",
      "2       1282.9365\n",
      "3       1282.9924\n",
      "4       1282.9989\n",
      "5       1283.0255\n",
      "6       1283.0259\n",
      "7       1287.0334\n",
      "8       1287.0338\n",
      "9       1287.0395\n",
      "10      1287.0399\n",
      "11      1287.0455\n",
      "12      1287.0459\n",
      "13      1287.0515\n",
      "14      1287.0587\n",
      "15      1287.0651\n",
      "16      1287.0655\n",
      "17      1287.0711\n",
      "18      1287.0716\n",
      "19      1287.0778\n",
      "20      1287.0783\n",
      "21      1287.0839\n",
      "22      1287.0844\n",
      "23      1287.0899\n",
      "24      1287.0904\n",
      "25      1287.0960\n",
      "26      1287.0964\n",
      "27      1287.1036\n",
      "28      1287.1040\n",
      "29      1287.1096\n",
      "          ...    \n",
      "1733    1381.8445\n",
      "1734    1381.8449\n",
      "1735    1381.8506\n",
      "1736    1381.8510\n",
      "1737    1381.8567\n",
      "1738    1381.8572\n",
      "1739    1381.8638\n",
      "1740    1381.8643\n",
      "1741    1381.8710\n",
      "1742    1381.8715\n",
      "1743    1381.8790\n",
      "1744    1381.8794\n",
      "1745    1381.8877\n",
      "1746    1381.8881\n",
      "1747    1381.8949\n",
      "1748    1381.8953\n",
      "1749    1381.9020\n",
      "1750    1381.9024\n",
      "1751    1382.7439\n",
      "1752    1382.7443\n",
      "1753    1382.7479\n",
      "1754    1382.7483\n",
      "1755    1382.7545\n",
      "1756    1382.7550\n",
      "1757    1382.7595\n",
      "1758    1382.7600\n",
      "1759    1382.7646\n",
      "1760    1382.7650\n",
      "1761    1382.7696\n",
      "1762    1382.7700\n",
      "Name: JD, Length: 1763, dtype: float64\n"
     ]
    }
   ],
   "source": [
    "x=df['JD']\n",
    "print(x)"
   ]
  },
  {
   "cell_type": "markdown",
   "metadata": {},
   "source": [
    "Now I do the same thing with a different column."
   ]
  },
  {
   "cell_type": "code",
   "execution_count": 5,
   "metadata": {},
   "outputs": [
    {
     "name": "stdout",
     "output_type": "stream",
     "text": [
      "0       1.015431\n",
      "1       1.012467\n",
      "2       1.061523\n",
      "3       1.046897\n",
      "4       1.012051\n",
      "5       1.024523\n",
      "6       1.033381\n",
      "7       1.004988\n",
      "8       1.006122\n",
      "9       1.008749\n",
      "10      1.007590\n",
      "11      1.007107\n",
      "12      1.003314\n",
      "13      1.006033\n",
      "14      1.010719\n",
      "15      1.014106\n",
      "16      1.009797\n",
      "17      1.006919\n",
      "18      1.008972\n",
      "19      1.013372\n",
      "20      1.011484\n",
      "21      1.013006\n",
      "22      1.014463\n",
      "23      1.011969\n",
      "24      1.005800\n",
      "25      1.005032\n",
      "26      1.007847\n",
      "27      1.000696\n",
      "28      1.006795\n",
      "29      1.011868\n",
      "          ...   \n",
      "1733    0.940273\n",
      "1734    0.935270\n",
      "1735    0.934503\n",
      "1736    0.933915\n",
      "1737    0.933866\n",
      "1738    0.939577\n",
      "1739    0.934198\n",
      "1740    0.931140\n",
      "1741    0.938346\n",
      "1742    0.929559\n",
      "1743    0.937815\n",
      "1744    0.939173\n",
      "1745    0.930778\n",
      "1746    0.934497\n",
      "1747    0.932152\n",
      "1748    0.929679\n",
      "1749    0.928212\n",
      "1750    0.933663\n",
      "1751    1.007243\n",
      "1752    1.009267\n",
      "1753    1.010644\n",
      "1754    1.007196\n",
      "1755    1.009264\n",
      "1756    1.007372\n",
      "1757    1.006821\n",
      "1758    1.008760\n",
      "1759    1.005320\n",
      "1760    1.002518\n",
      "1761    1.008320\n",
      "1762    1.007648\n",
      "Name: Flux, Length: 1763, dtype: float64\n"
     ]
    }
   ],
   "source": [
    "y=df['Flux']\n",
    "print(y)"
   ]
  },
  {
   "cell_type": "markdown",
   "metadata": {},
   "source": [
    "Ok, so now we start to scratch the surface of plotting with matplotlib.  Visualizing data is important to validate that the data looks as expected before feeding it into another processing engine like training an neural network.  Try changing these lines of code to see what happens.  What happens if you change the xlimits, or add ylimits?  What if you want to make a histogram of data values instead of a two-dimensional scatter plot? https://matplotlib.org/stable/gallery/index.html  "
   ]
  },
  {
   "cell_type": "code",
   "execution_count": 18,
   "metadata": {},
   "outputs": [
    {
     "data": {
      "text/plain": [
       "Text(0, 0.5, 'Flux (Normalized)')"
      ]
     },
     "execution_count": 18,
     "metadata": {},
     "output_type": "execute_result"
    },
    {
     "data": {
      "image/png": "[encoded data removed]",
      "text/plain": [
       "<Figure size 432x288 with 1 Axes>"
      ]
     },
     "metadata": {
      "needs_background": "light"
     },
     "output_type": "display_data"
    }
   ],
   "source": [
    "plt.plot(x,y,linestyle = \"\", marker = \".\")\n",
    "plt.xlim(1280,1300)\n",
    "plt.xlabel(\"Julian Date (days)\")\n",
    "plt.ylabel(\"Flux (Normalized)\")"
   ]
  },
  {
   "cell_type": "markdown",
   "metadata": {},
   "source": [
    "This last command saves the plot as a png to a local directory.  Again, the lack of a directory path means \"same directory\" as the code is running it.  Try chaning the filename!  Google \"matplotlib savefig\" to learn more."
   ]
  },
  {
   "cell_type": "code",
   "execution_count": 16,
   "metadata": {},
   "outputs": [
    {
     "data": {
      "text/plain": [
       "<Figure size 432x288 with 0 Axes>"
      ]
     },
     "metadata": {},
     "output_type": "display_data"
    }
   ],
   "source": [
    "plt.show()\n",
    "plt.savefig(\"test2.png\")"
   ]
  }
 ],
 "metadata": {
  "kernelspec": {
   "display_name": "Python 3",
   "language": "python",
   "name": "python3"
  },
  "language_info": {
   "codemirror_mode": {
    "name": "ipython",
    "version": 3
   },
   "file_extension": ".py",
   "mimetype": "text/x-python",
   "name": "python",
   "nbconvert_exporter": "python",
   "pygments_lexer": "ipython3",
   "version": "3.7.1"
  }
 },
 "nbformat": 4,
 "nbformat_minor": 2
}
