{
 "cells": [
  {
   "cell_type": "markdown",
   "metadata": {},
   "source": [
    "The Jupyter Notebook tutorial scratches the surface of working with a data file and visualizing some of the data.\n",
    "Peter Plavchan, 2023\n",
    "\n",
    "This is a Jupyter notebook, which is not the same thing as a python program.  it is far more interactive and hands on, letting you \"prototype\" code and test things out and change things dynamically.  In lecture, we went over how to copy and paste this code into a .py file to make a python program out of this code, which is also included in this repository.  "
   ]
  },
  {
   "cell_type": "markdown",
   "metadata": {},
   "source": [
    "This set of lines imports libraries of other people's code into your python environment.  If you get an error message, you will need to type into a gitbash terminal:  pip3 install pandas  <enter> and pip3 install matplotlib <enter>"
   ]
  },
  {
   "cell_type": "code",
   "execution_count": 1,
   "metadata": {},
   "outputs": [],
   "source": [
    "import pandas as pd\n",
    "import matplotlib.pyplot as plt"
   ]
  },
  {
   "cell_type": "markdown",
   "metadata": {},
   "source": [
    "This next line uses the pandas function read_csv to import data from the stated csv file, pasted in as a string, and storing it in a data frame variable df.  You will want to browse documentation on pandas (and matplotlib): https://pandas.pydata.org/docs/ https://matplotlib.org/\n",
    "This is only one way of reading in a date file, and there are more ways that you can imagine, all the way down to reading in files byte by byte.  We are scratching the surface; take a deeper dive on your own:\n",
    "- try altering the content of the csv file.  Open it in Notepad or TextEdit and change the contents and see what happens.\n",
    "- implicit in this line of code is the LOCATION of the file.  The lack of any directory paths indicates it is in your current working directory, aka the same directory you are running your code from.  What happens if the data file is in a subfolder called \"data/\" or is in some other folder altogether like \"/Users/username/Desktop/data/\".  These are called relative and absolute folder paths, and they must appear in front of the filename if the data is in a different directory.  Try moving the data file to a different directory and accessing it there!"
   ]
  },
  {
   "cell_type": "code",
   "execution_count": 2,
   "metadata": {},
   "outputs": [],
   "source": [
    "df = pd.read_csv('aumicwasp.csv')"
   ]
  },
  {
   "cell_type": "markdown",
   "metadata": {},
   "source": [
    "This next line of code shows a nicely formatted view of the start of the csv file in a table format, with row numbers labeled (note starts at 0!) and column names pulled from the start of the file.  Note the 4th column is NaN which stands for Not a Number.  This is because I put commas at the end of the lines, and left the four column blank."
   ]
  },
  {
   "cell_type": "code",
   "execution_count": 3,
   "metadata": {},
   "outputs": [
    {
     "data": {
      "text/html": [
       "<div>\n",
       "<style scoped>\n",
       "    .dataframe tbody tr th:only-of-type {\n",
       "        vertical-align: middle;\n",
       "    }\n",
       "\n",
       "    .dataframe tbody tr th {\n",
       "        vertical-align: top;\n",
       "    }\n",
       "\n",
       "    .dataframe thead th {\n",
       "        text-align: right;\n",
       "    }\n",
       "</style>\n",
       "<table border=\"1\" class=\"dataframe\">\n",
       "  <thead>\n",
       "    <tr style=\"text-align: right;\">\n",
       "      <th></th>\n",
       "      <th>JD</th>\n",
       "      <th>Phase</th>\n",
       "      <th>Flux</th>\n",
       "      <th>col4</th>\n",
       "    </tr>\n",
       "  </thead>\n",
       "  <tbody>\n",
       "    <tr>\n",
       "      <th>0</th>\n",
       "      <td>1282.8924</td>\n",
       "      <td>0.698342</td>\n",
       "      <td>1.015431</td>\n",
       "      <td>NaN</td>\n",
       "    </tr>\n",
       "    <tr>\n",
       "      <th>1</th>\n",
       "      <td>1282.8928</td>\n",
       "      <td>0.698432</td>\n",
       "      <td>1.012466</td>\n",
       "      <td>NaN</td>\n",
       "    </tr>\n",
       "    <tr>\n",
       "      <th>2</th>\n",
       "      <td>1282.9365</td>\n",
       "      <td>0.707408</td>\n",
       "      <td>1.061523</td>\n",
       "      <td>NaN</td>\n",
       "    </tr>\n",
       "    <tr>\n",
       "      <th>3</th>\n",
       "      <td>1282.9924</td>\n",
       "      <td>0.718897</td>\n",
       "      <td>1.046897</td>\n",
       "      <td>NaN</td>\n",
       "    </tr>\n",
       "    <tr>\n",
       "      <th>4</th>\n",
       "      <td>1282.9989</td>\n",
       "      <td>0.720246</td>\n",
       "      <td>1.012051</td>\n",
       "      <td>NaN</td>\n",
       "    </tr>\n",
       "  </tbody>\n",
       "</table>\n",
       "</div>"
      ],
      "text/plain": [
       "          JD     Phase      Flux  col4\n",
       "0  1282.8924  0.698342  1.015431   NaN\n",
       "1  1282.8928  0.698432  1.012466   NaN\n",
       "2  1282.9365  0.707408  1.061523   NaN\n",
       "3  1282.9924  0.718897  1.046897   NaN\n",
       "4  1282.9989  0.720246  1.012051   NaN"
      ]
     },
     "execution_count": 3,
     "metadata": {},
     "output_type": "execute_result"
    }
   ],
   "source": [
    "df.head()\n"
   ]
  },
  {
   "cell_type": "markdown",
   "metadata": {},
   "source": [
    "This line of code takes the column of data called \"JD\" and puts the array of numbers in a variable called x.\n",
    "This isn't really a required step, but try changing \"x\" to some other variable name, and see whath happens.  The second line of code prints the contents of the variable."
   ]
  },
  {
   "cell_type": "code",
   "execution_count": 4,
   "metadata": {},
   "outputs": [
    {
     "name": "stdout",
     "output_type": "stream",
     "text": [
      "0       1282.8924\n",
      "1       1282.8928\n",
      "2       1282.9365\n",
      "3       1282.9924\n",
      "4       1282.9989\n",
      "          ...    \n",
      "1758    1382.7600\n",
      "1759    1382.7646\n",
      "1760    1382.7650\n",
      "1761    1382.7696\n",
      "1762    1382.7700\n",
      "Name: JD, Length: 1763, dtype: float64\n"
     ]
    }
   ],
   "source": [
    "x=df['JD']\n",
    "print(x)"
   ]
  },
  {
   "cell_type": "markdown",
   "metadata": {},
   "source": [
    "Now I do the same thing with a different column."
   ]
  },
  {
   "cell_type": "code",
   "execution_count": 5,
   "metadata": {},
   "outputs": [
    {
     "name": "stdout",
     "output_type": "stream",
     "text": [
      "0       1.015431\n",
      "1       1.012466\n",
      "2       1.061523\n",
      "3       1.046897\n",
      "4       1.012051\n",
      "          ...   \n",
      "1758    1.008760\n",
      "1759    1.005320\n",
      "1760    1.002518\n",
      "1761    1.008320\n",
      "1762    1.007648\n",
      "Name: Flux, Length: 1763, dtype: float64\n"
     ]
    }
   ],
   "source": [
    "y=df['Flux']\n",
    "print(y)"
   ]
  },
  {
   "cell_type": "markdown",
   "metadata": {},
   "source": [
    "Ok, so now we start to scratch the surface of plotting with matplotlib.  Visualizing data is important to validate that the data looks as expected before feeding it into another processing engine like training an neural network.  Try changing these lines of code to see what happens.  What happens if you change the xlimits, or add ylimits?  What if you want to make a histogram of data values instead of a two-dimensional scatter plot? https://matplotlib.org/stable/gallery/index.html  "
   ]
  },
  {
   "cell_type": "code",
   "execution_count": 6,
   "metadata": {},
   "outputs": [
    {
     "data": {
      "image/png": "[encoded data removed]",
      "text/plain": [
       "<Figure size 640x480 with 1 Axes>"
      ]
     },
     "metadata": {},
     "output_type": "display_data"
    }
   ],
   "source": [
    "plt.plot(x,y,linestyle = \"\", marker = \".\")\n",
    "plt.xlim(1280,1300)\n",
    "plt.xlabel(\"Julian Date (days)\")\n",
    "plt.ylabel(\"Flux (Normalized)\")\n",
    "plt.savefig('fig2.pdf')"
   ]
  },
  {
   "cell_type": "markdown",
   "metadata": {},
   "source": [
    "This last command saves the plot as a png to a local directory.  Again, the lack of a directory path means \"same directory\" as the code is running it.  Try chaning the filename!  Google \"matplotlib savefig\" to learn more."
   ]
  },
  {
   "cell_type": "code",
   "execution_count": null,
   "metadata": {},
   "outputs": [],
   "source": []
  }
 ],
 "metadata": {
  "kernelspec": {
   "display_name": "Python 3 (ipykernel)",
   "language": "python",
   "name": "python3"
  },
  "language_info": {
   "codemirror_mode": {
    "name": "ipython",
    "version": 3
   },
   "file_extension": ".py",
   "mimetype": "text/x-python",
   "name": "python",
   "nbconvert_exporter": "python",
   "pygments_lexer": "ipython3",
   "version": "3.11.5"
  }
 },
 "nbformat": 4,
 "nbformat_minor": 4
}
